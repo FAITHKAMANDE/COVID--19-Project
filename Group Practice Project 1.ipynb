{
 "cells": [
  {
   "cell_type": "markdown",
   "id": "2d3a8e96",
   "metadata": {},
   "source": [
    "1. Data Collection\n",
    "Use publicly available COVID-19 datasets, such as from:\n",
    "\n",
    "Our World in Data COVID-19 dataset ; https://catalog.ourworldindata.org/garden/covid/latest/compact/compact.csv\n",
    "\n",
    "Johns Hopkins University COVID-19 dataset ; https://github.com/CSSEGISandData/COVID-19\n",
    "\n",
    "2. Data Cleaning and Preparation\n",
    "Load data using Pandas.\n",
    "\n",
    "Handle missing values, convert date columns, and filter by countries of interest.\n",
    "\n",
    "Work with NumPy arrays to compute metrics like rolling averages.\n",
    "\n",
    "3. Exploratory Data Analysis (EDA)\n",
    "Analyze trends in:\n",
    "\n",
    "Daily and cumulative cases/deaths\n",
    "\n",
    "Case fatality rate\n",
    "\n",
    "Vaccination progress\n",
    "\n",
    "Calculate statistical measures:\n",
    "\n",
    "Mean, median, standard deviation\n",
    "\n",
    "Correlation between vaccinations and cases\n",
    "\n",
    "4. Visualization\n",
    "Use Matplotlib and Seaborn to create:\n",
    "\n",
    "Line plots of cases over time\n",
    "\n",
    "Bar charts of top countries by vaccination rate\n",
    "\n",
    "Heatmaps of case correlation by country\n",
    "\n",
    "Pie charts of case distribution by continent\n",
    "\n",
    "5. Insights and Reporting\n",
    "Summarize findings with markdown or Jupyter Notebook cells.\n",
    "\n",
    "Optional: Generate a basic PDF/HTML report using Python libraries."
   ]
  },
  {
   "cell_type": "markdown",
   "id": "fcd4267d",
   "metadata": {},
   "source": []
  }
 ],
 "metadata": {
  "language_info": {
   "name": "python"
  }
 },
 "nbformat": 4,
 "nbformat_minor": 5
}
